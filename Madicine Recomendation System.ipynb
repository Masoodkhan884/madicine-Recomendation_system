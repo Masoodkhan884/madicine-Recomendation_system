{
 "cells": [
  {
   "cell_type": "code",
   "execution_count": 1,
   "id": "dfbaa921-481d-4c77-8be9-d3d5e755fe1b",
   "metadata": {},
   "outputs": [],
   "source": [
    "import pandas as pd\n",
    "import numpy  as np\n",
    "import warnings\n",
    "warnings.filterwarnings('ignore')"
   ]
  },
  {
   "cell_type": "code",
   "execution_count": 2,
   "id": "3991c795-a7c5-4b37-9b88-e83c942daf6e",
   "metadata": {},
   "outputs": [
    {
     "data": {
      "text/html": [
       "<div>\n",
       "<style scoped>\n",
       "    .dataframe tbody tr th:only-of-type {\n",
       "        vertical-align: middle;\n",
       "    }\n",
       "\n",
       "    .dataframe tbody tr th {\n",
       "        vertical-align: top;\n",
       "    }\n",
       "\n",
       "    .dataframe thead th {\n",
       "        text-align: right;\n",
       "    }\n",
       "</style>\n",
       "<table border=\"1\" class=\"dataframe\">\n",
       "  <thead>\n",
       "    <tr style=\"text-align: right;\">\n",
       "      <th></th>\n",
       "      <th>itching</th>\n",
       "      <th>skin_rash</th>\n",
       "      <th>nodal_skin_eruptions</th>\n",
       "      <th>continuous_sneezing</th>\n",
       "      <th>shivering</th>\n",
       "      <th>chills</th>\n",
       "      <th>joint_pain</th>\n",
       "      <th>stomach_pain</th>\n",
       "      <th>acidity</th>\n",
       "      <th>ulcers_on_tongue</th>\n",
       "      <th>...</th>\n",
       "      <th>blackheads</th>\n",
       "      <th>scurring</th>\n",
       "      <th>skin_peeling</th>\n",
       "      <th>silver_like_dusting</th>\n",
       "      <th>small_dents_in_nails</th>\n",
       "      <th>inflammatory_nails</th>\n",
       "      <th>blister</th>\n",
       "      <th>red_sore_around_nose</th>\n",
       "      <th>yellow_crust_ooze</th>\n",
       "      <th>prognosis</th>\n",
       "    </tr>\n",
       "  </thead>\n",
       "  <tbody>\n",
       "    <tr>\n",
       "      <th>0</th>\n",
       "      <td>1</td>\n",
       "      <td>1</td>\n",
       "      <td>1</td>\n",
       "      <td>0</td>\n",
       "      <td>0</td>\n",
       "      <td>0</td>\n",
       "      <td>0</td>\n",
       "      <td>0</td>\n",
       "      <td>0</td>\n",
       "      <td>0</td>\n",
       "      <td>...</td>\n",
       "      <td>0</td>\n",
       "      <td>0</td>\n",
       "      <td>0</td>\n",
       "      <td>0</td>\n",
       "      <td>0</td>\n",
       "      <td>0</td>\n",
       "      <td>0</td>\n",
       "      <td>0</td>\n",
       "      <td>0</td>\n",
       "      <td>Fungal infection</td>\n",
       "    </tr>\n",
       "    <tr>\n",
       "      <th>1</th>\n",
       "      <td>0</td>\n",
       "      <td>1</td>\n",
       "      <td>1</td>\n",
       "      <td>0</td>\n",
       "      <td>0</td>\n",
       "      <td>0</td>\n",
       "      <td>0</td>\n",
       "      <td>0</td>\n",
       "      <td>0</td>\n",
       "      <td>0</td>\n",
       "      <td>...</td>\n",
       "      <td>0</td>\n",
       "      <td>0</td>\n",
       "      <td>0</td>\n",
       "      <td>0</td>\n",
       "      <td>0</td>\n",
       "      <td>0</td>\n",
       "      <td>0</td>\n",
       "      <td>0</td>\n",
       "      <td>0</td>\n",
       "      <td>Fungal infection</td>\n",
       "    </tr>\n",
       "    <tr>\n",
       "      <th>2</th>\n",
       "      <td>1</td>\n",
       "      <td>0</td>\n",
       "      <td>1</td>\n",
       "      <td>0</td>\n",
       "      <td>0</td>\n",
       "      <td>0</td>\n",
       "      <td>0</td>\n",
       "      <td>0</td>\n",
       "      <td>0</td>\n",
       "      <td>0</td>\n",
       "      <td>...</td>\n",
       "      <td>0</td>\n",
       "      <td>0</td>\n",
       "      <td>0</td>\n",
       "      <td>0</td>\n",
       "      <td>0</td>\n",
       "      <td>0</td>\n",
       "      <td>0</td>\n",
       "      <td>0</td>\n",
       "      <td>0</td>\n",
       "      <td>Fungal infection</td>\n",
       "    </tr>\n",
       "    <tr>\n",
       "      <th>3</th>\n",
       "      <td>1</td>\n",
       "      <td>1</td>\n",
       "      <td>0</td>\n",
       "      <td>0</td>\n",
       "      <td>0</td>\n",
       "      <td>0</td>\n",
       "      <td>0</td>\n",
       "      <td>0</td>\n",
       "      <td>0</td>\n",
       "      <td>0</td>\n",
       "      <td>...</td>\n",
       "      <td>0</td>\n",
       "      <td>0</td>\n",
       "      <td>0</td>\n",
       "      <td>0</td>\n",
       "      <td>0</td>\n",
       "      <td>0</td>\n",
       "      <td>0</td>\n",
       "      <td>0</td>\n",
       "      <td>0</td>\n",
       "      <td>Fungal infection</td>\n",
       "    </tr>\n",
       "    <tr>\n",
       "      <th>4</th>\n",
       "      <td>1</td>\n",
       "      <td>1</td>\n",
       "      <td>1</td>\n",
       "      <td>0</td>\n",
       "      <td>0</td>\n",
       "      <td>0</td>\n",
       "      <td>0</td>\n",
       "      <td>0</td>\n",
       "      <td>0</td>\n",
       "      <td>0</td>\n",
       "      <td>...</td>\n",
       "      <td>0</td>\n",
       "      <td>0</td>\n",
       "      <td>0</td>\n",
       "      <td>0</td>\n",
       "      <td>0</td>\n",
       "      <td>0</td>\n",
       "      <td>0</td>\n",
       "      <td>0</td>\n",
       "      <td>0</td>\n",
       "      <td>Fungal infection</td>\n",
       "    </tr>\n",
       "  </tbody>\n",
       "</table>\n",
       "<p>5 rows × 133 columns</p>\n",
       "</div>"
      ],
      "text/plain": [
       "   itching  skin_rash  nodal_skin_eruptions  continuous_sneezing  shivering  \\\n",
       "0        1          1                     1                    0          0   \n",
       "1        0          1                     1                    0          0   \n",
       "2        1          0                     1                    0          0   \n",
       "3        1          1                     0                    0          0   \n",
       "4        1          1                     1                    0          0   \n",
       "\n",
       "   chills  joint_pain  stomach_pain  acidity  ulcers_on_tongue  ...  \\\n",
       "0       0           0             0        0                 0  ...   \n",
       "1       0           0             0        0                 0  ...   \n",
       "2       0           0             0        0                 0  ...   \n",
       "3       0           0             0        0                 0  ...   \n",
       "4       0           0             0        0                 0  ...   \n",
       "\n",
       "   blackheads  scurring  skin_peeling  silver_like_dusting  \\\n",
       "0           0         0             0                    0   \n",
       "1           0         0             0                    0   \n",
       "2           0         0             0                    0   \n",
       "3           0         0             0                    0   \n",
       "4           0         0             0                    0   \n",
       "\n",
       "   small_dents_in_nails  inflammatory_nails  blister  red_sore_around_nose  \\\n",
       "0                     0                   0        0                     0   \n",
       "1                     0                   0        0                     0   \n",
       "2                     0                   0        0                     0   \n",
       "3                     0                   0        0                     0   \n",
       "4                     0                   0        0                     0   \n",
       "\n",
       "   yellow_crust_ooze         prognosis  \n",
       "0                  0  Fungal infection  \n",
       "1                  0  Fungal infection  \n",
       "2                  0  Fungal infection  \n",
       "3                  0  Fungal infection  \n",
       "4                  0  Fungal infection  \n",
       "\n",
       "[5 rows x 133 columns]"
      ]
     },
     "execution_count": 2,
     "metadata": {},
     "output_type": "execute_result"
    }
   ],
   "source": [
    "data = pd.read_csv(\"Data/Training.csv\")\n",
    "data.head()"
   ]
  },
  {
   "cell_type": "code",
   "execution_count": 3,
   "id": "30c90ec6-a165-40ac-90e3-7a8e452b51c7",
   "metadata": {},
   "outputs": [
    {
     "name": "stdout",
     "output_type": "stream",
     "text": [
      "Row: 4920, col: 133\n"
     ]
    }
   ],
   "source": [
    "row, col = data.shape[0], data.shape[1]\n",
    "print(f\"Row: {row}, col: {col}\")"
   ]
  },
  {
   "cell_type": "code",
   "execution_count": 4,
   "id": "641c738b-7641-4440-bdc1-68e36bba1519",
   "metadata": {},
   "outputs": [
    {
     "data": {
      "text/plain": [
       "itching                 0\n",
       "skin_rash               0\n",
       "nodal_skin_eruptions    0\n",
       "continuous_sneezing     0\n",
       "shivering               0\n",
       "                       ..\n",
       "inflammatory_nails      0\n",
       "blister                 0\n",
       "red_sore_around_nose    0\n",
       "yellow_crust_ooze       0\n",
       "prognosis               0\n",
       "Length: 133, dtype: int64"
      ]
     },
     "execution_count": 4,
     "metadata": {},
     "output_type": "execute_result"
    }
   ],
   "source": [
    "# data is already processed in the dataset.\n",
    "data.isnull().sum()"
   ]
  },
  {
   "cell_type": "code",
   "execution_count": 5,
   "id": "e55f352a-052a-4a71-80af-6a52cad6a287",
   "metadata": {},
   "outputs": [
    {
     "data": {
      "text/plain": [
       "4616"
      ]
     },
     "execution_count": 5,
     "metadata": {},
     "output_type": "execute_result"
    }
   ],
   "source": [
    "data.duplicated().sum()"
   ]
  },
  {
   "cell_type": "code",
   "execution_count": 6,
   "id": "4a34823b-006b-45b8-a16d-5e98c8a08af7",
   "metadata": {},
   "outputs": [
    {
     "name": "stdout",
     "output_type": "stream",
     "text": [
      "['Fungal infection' 'Allergy' 'GERD' 'Chronic cholestasis' 'Drug Reaction'\n",
      " 'Peptic ulcer diseae' 'AIDS' 'Diabetes ' 'Gastroenteritis'\n",
      " 'Bronchial Asthma' 'Hypertension ' 'Migraine' 'Cervical spondylosis'\n",
      " 'Paralysis (brain hemorrhage)' 'Jaundice' 'Malaria' 'Chicken pox'\n",
      " 'Dengue' 'Typhoid' 'hepatitis A' 'Hepatitis B' 'Hepatitis C'\n",
      " 'Hepatitis D' 'Hepatitis E' 'Alcoholic hepatitis' 'Tuberculosis'\n",
      " 'Common Cold' 'Pneumonia' 'Dimorphic hemmorhoids(piles)' 'Heart attack'\n",
      " 'Varicose veins' 'Hypothyroidism' 'Hyperthyroidism' 'Hypoglycemia'\n",
      " 'Osteoarthristis' 'Arthritis' '(vertigo) Paroymsal  Positional Vertigo'\n",
      " 'Acne' 'Urinary tract infection' 'Psoriasis' 'Impetigo']\n"
     ]
    }
   ],
   "source": [
    "# to checkunique disease\n",
    "print(data['prognosis'].unique())"
   ]
  },
  {
   "cell_type": "code",
   "execution_count": 7,
   "id": "3911a067-f6ab-43a1-a65c-ed2536a83e96",
   "metadata": {},
   "outputs": [
    {
     "data": {
      "text/plain": [
       "41"
      ]
     },
     "execution_count": 7,
     "metadata": {},
     "output_type": "execute_result"
    }
   ],
   "source": [
    "# to checking the length of certian disease\n",
    "len(data['prognosis'].unique())\n"
   ]
  },
  {
   "cell_type": "markdown",
   "id": "f8826d97-af62-4171-bf8f-62d4c3d1ff25",
   "metadata": {},
   "source": [
    "# Train Test Split here"
   ]
  },
  {
   "cell_type": "code",
   "execution_count": 8,
   "id": "f6a8c4d9-fb24-46b5-8018-fc8aedfd2e95",
   "metadata": {},
   "outputs": [],
   "source": [
    "from sklearn.model_selection import train_test_split\n",
    "from sklearn.preprocessing import LabelEncoder"
   ]
  },
  {
   "cell_type": "code",
   "execution_count": 9,
   "id": "b4759b78-01b2-4f73-8a44-52ec9c27f890",
   "metadata": {},
   "outputs": [],
   "source": [
    "x=data.drop(['prognosis'],axis=1)\n",
    "y=data['prognosis']"
   ]
  },
  {
   "cell_type": "code",
   "execution_count": 10,
   "id": "3aaeeedc-6123-4281-8e5c-86c69b1e6ab7",
   "metadata": {},
   "outputs": [
    {
     "data": {
      "text/plain": [
       "(4920, 132)"
      ]
     },
     "execution_count": 10,
     "metadata": {},
     "output_type": "execute_result"
    }
   ],
   "source": [
    "x.shape"
   ]
  },
  {
   "cell_type": "code",
   "execution_count": 11,
   "id": "fa3c884e-f963-41fa-aa9d-27dc8912acac",
   "metadata": {},
   "outputs": [
    {
     "data": {
      "text/plain": [
       "['itching',\n",
       " 'skin_rash',\n",
       " 'nodal_skin_eruptions',\n",
       " 'continuous_sneezing',\n",
       " 'shivering',\n",
       " 'chills',\n",
       " 'joint_pain',\n",
       " 'stomach_pain',\n",
       " 'acidity',\n",
       " 'ulcers_on_tongue',\n",
       " 'muscle_wasting',\n",
       " 'vomiting',\n",
       " 'burning_micturition',\n",
       " 'spotting_ urination',\n",
       " 'fatigue',\n",
       " 'weight_gain',\n",
       " 'anxiety',\n",
       " 'cold_hands_and_feets',\n",
       " 'mood_swings',\n",
       " 'weight_loss',\n",
       " 'restlessness',\n",
       " 'lethargy',\n",
       " 'patches_in_throat',\n",
       " 'irregular_sugar_level',\n",
       " 'cough',\n",
       " 'high_fever',\n",
       " 'sunken_eyes',\n",
       " 'breathlessness',\n",
       " 'sweating',\n",
       " 'dehydration',\n",
       " 'indigestion',\n",
       " 'headache',\n",
       " 'yellowish_skin',\n",
       " 'dark_urine',\n",
       " 'nausea',\n",
       " 'loss_of_appetite',\n",
       " 'pain_behind_the_eyes',\n",
       " 'back_pain',\n",
       " 'constipation',\n",
       " 'abdominal_pain',\n",
       " 'diarrhoea',\n",
       " 'mild_fever',\n",
       " 'yellow_urine',\n",
       " 'yellowing_of_eyes',\n",
       " 'acute_liver_failure',\n",
       " 'fluid_overload',\n",
       " 'swelling_of_stomach',\n",
       " 'swelled_lymph_nodes',\n",
       " 'malaise',\n",
       " 'blurred_and_distorted_vision',\n",
       " 'phlegm',\n",
       " 'throat_irritation',\n",
       " 'redness_of_eyes',\n",
       " 'sinus_pressure',\n",
       " 'runny_nose',\n",
       " 'congestion',\n",
       " 'chest_pain',\n",
       " 'weakness_in_limbs',\n",
       " 'fast_heart_rate',\n",
       " 'pain_during_bowel_movements',\n",
       " 'pain_in_anal_region',\n",
       " 'bloody_stool',\n",
       " 'irritation_in_anus',\n",
       " 'neck_pain',\n",
       " 'dizziness',\n",
       " 'cramps',\n",
       " 'bruising',\n",
       " 'obesity',\n",
       " 'swollen_legs',\n",
       " 'swollen_blood_vessels',\n",
       " 'puffy_face_and_eyes',\n",
       " 'enlarged_thyroid',\n",
       " 'brittle_nails',\n",
       " 'swollen_extremeties',\n",
       " 'excessive_hunger',\n",
       " 'extra_marital_contacts',\n",
       " 'drying_and_tingling_lips',\n",
       " 'slurred_speech',\n",
       " 'knee_pain',\n",
       " 'hip_joint_pain',\n",
       " 'muscle_weakness',\n",
       " 'stiff_neck',\n",
       " 'swelling_joints',\n",
       " 'movement_stiffness',\n",
       " 'spinning_movements',\n",
       " 'loss_of_balance',\n",
       " 'unsteadiness',\n",
       " 'weakness_of_one_body_side',\n",
       " 'loss_of_smell',\n",
       " 'bladder_discomfort',\n",
       " 'foul_smell_of urine',\n",
       " 'continuous_feel_of_urine',\n",
       " 'passage_of_gases',\n",
       " 'internal_itching',\n",
       " 'toxic_look_(typhos)',\n",
       " 'depression',\n",
       " 'irritability',\n",
       " 'muscle_pain',\n",
       " 'altered_sensorium',\n",
       " 'red_spots_over_body',\n",
       " 'belly_pain',\n",
       " 'abnormal_menstruation',\n",
       " 'dischromic _patches',\n",
       " 'watering_from_eyes',\n",
       " 'increased_appetite',\n",
       " 'polyuria',\n",
       " 'family_history',\n",
       " 'mucoid_sputum',\n",
       " 'rusty_sputum',\n",
       " 'lack_of_concentration',\n",
       " 'visual_disturbances',\n",
       " 'receiving_blood_transfusion',\n",
       " 'receiving_unsterile_injections',\n",
       " 'coma',\n",
       " 'stomach_bleeding',\n",
       " 'distention_of_abdomen',\n",
       " 'history_of_alcohol_consumption',\n",
       " 'fluid_overload.1',\n",
       " 'blood_in_sputum',\n",
       " 'prominent_veins_on_calf',\n",
       " 'palpitations',\n",
       " 'painful_walking',\n",
       " 'pus_filled_pimples',\n",
       " 'blackheads',\n",
       " 'scurring',\n",
       " 'skin_peeling',\n",
       " 'silver_like_dusting',\n",
       " 'small_dents_in_nails',\n",
       " 'inflammatory_nails',\n",
       " 'blister',\n",
       " 'red_sore_around_nose',\n",
       " 'yellow_crust_ooze',\n",
       " 'prognosis']"
      ]
     },
     "execution_count": 11,
     "metadata": {},
     "output_type": "execute_result"
    }
   ],
   "source": [
    "symptom_list= data.columns.tolist()\n",
    "symptom_list"
   ]
  },
  {
   "cell_type": "code",
   "execution_count": 12,
   "id": "a1ae168d-3a9e-49de-bb78-abbf8f6ccae2",
   "metadata": {},
   "outputs": [
    {
     "data": {
      "text/plain": [
       "133"
      ]
     },
     "execution_count": 12,
     "metadata": {},
     "output_type": "execute_result"
    }
   ],
   "source": [
    "len(symptom_list)"
   ]
  },
  {
   "cell_type": "code",
   "execution_count": 13,
   "id": "da4919cd-7c26-40f3-99a7-3c70d76a1b21",
   "metadata": {},
   "outputs": [
    {
     "data": {
      "text/plain": [
       "{0: 'itching',\n",
       " 1: 'skin_rash',\n",
       " 2: 'nodal_skin_eruptions',\n",
       " 3: 'continuous_sneezing',\n",
       " 4: 'shivering',\n",
       " 5: 'chills',\n",
       " 6: 'joint_pain',\n",
       " 7: 'stomach_pain',\n",
       " 8: 'acidity',\n",
       " 9: 'ulcers_on_tongue',\n",
       " 10: 'muscle_wasting',\n",
       " 11: 'vomiting',\n",
       " 12: 'burning_micturition',\n",
       " 13: 'spotting_ urination',\n",
       " 14: 'fatigue',\n",
       " 15: 'weight_gain',\n",
       " 16: 'anxiety',\n",
       " 17: 'cold_hands_and_feets',\n",
       " 18: 'mood_swings',\n",
       " 19: 'weight_loss',\n",
       " 20: 'restlessness',\n",
       " 21: 'lethargy',\n",
       " 22: 'patches_in_throat',\n",
       " 23: 'irregular_sugar_level',\n",
       " 24: 'cough',\n",
       " 25: 'high_fever',\n",
       " 26: 'sunken_eyes',\n",
       " 27: 'breathlessness',\n",
       " 28: 'sweating',\n",
       " 29: 'dehydration',\n",
       " 30: 'indigestion',\n",
       " 31: 'headache',\n",
       " 32: 'yellowish_skin',\n",
       " 33: 'dark_urine',\n",
       " 34: 'nausea',\n",
       " 35: 'loss_of_appetite',\n",
       " 36: 'pain_behind_the_eyes',\n",
       " 37: 'back_pain',\n",
       " 38: 'constipation',\n",
       " 39: 'abdominal_pain',\n",
       " 40: 'diarrhoea',\n",
       " 41: 'mild_fever',\n",
       " 42: 'yellow_urine',\n",
       " 43: 'yellowing_of_eyes',\n",
       " 44: 'acute_liver_failure',\n",
       " 45: 'fluid_overload',\n",
       " 46: 'swelling_of_stomach',\n",
       " 47: 'swelled_lymph_nodes',\n",
       " 48: 'malaise',\n",
       " 49: 'blurred_and_distorted_vision',\n",
       " 50: 'phlegm',\n",
       " 51: 'throat_irritation',\n",
       " 52: 'redness_of_eyes',\n",
       " 53: 'sinus_pressure',\n",
       " 54: 'runny_nose',\n",
       " 55: 'congestion',\n",
       " 56: 'chest_pain',\n",
       " 57: 'weakness_in_limbs',\n",
       " 58: 'fast_heart_rate',\n",
       " 59: 'pain_during_bowel_movements',\n",
       " 60: 'pain_in_anal_region',\n",
       " 61: 'bloody_stool',\n",
       " 62: 'irritation_in_anus',\n",
       " 63: 'neck_pain',\n",
       " 64: 'dizziness',\n",
       " 65: 'cramps',\n",
       " 66: 'bruising',\n",
       " 67: 'obesity',\n",
       " 68: 'swollen_legs',\n",
       " 69: 'swollen_blood_vessels',\n",
       " 70: 'puffy_face_and_eyes',\n",
       " 71: 'enlarged_thyroid',\n",
       " 72: 'brittle_nails',\n",
       " 73: 'swollen_extremeties',\n",
       " 74: 'excessive_hunger',\n",
       " 75: 'extra_marital_contacts',\n",
       " 76: 'drying_and_tingling_lips',\n",
       " 77: 'slurred_speech',\n",
       " 78: 'knee_pain',\n",
       " 79: 'hip_joint_pain',\n",
       " 80: 'muscle_weakness',\n",
       " 81: 'stiff_neck',\n",
       " 82: 'swelling_joints',\n",
       " 83: 'movement_stiffness',\n",
       " 84: 'spinning_movements',\n",
       " 85: 'loss_of_balance',\n",
       " 86: 'unsteadiness',\n",
       " 87: 'weakness_of_one_body_side',\n",
       " 88: 'loss_of_smell',\n",
       " 89: 'bladder_discomfort',\n",
       " 90: 'foul_smell_of urine',\n",
       " 91: 'continuous_feel_of_urine',\n",
       " 92: 'passage_of_gases',\n",
       " 93: 'internal_itching',\n",
       " 94: 'toxic_look_(typhos)',\n",
       " 95: 'depression',\n",
       " 96: 'irritability',\n",
       " 97: 'muscle_pain',\n",
       " 98: 'altered_sensorium',\n",
       " 99: 'red_spots_over_body',\n",
       " 100: 'belly_pain',\n",
       " 101: 'abnormal_menstruation',\n",
       " 102: 'dischromic _patches',\n",
       " 103: 'watering_from_eyes',\n",
       " 104: 'increased_appetite',\n",
       " 105: 'polyuria',\n",
       " 106: 'family_history',\n",
       " 107: 'mucoid_sputum',\n",
       " 108: 'rusty_sputum',\n",
       " 109: 'lack_of_concentration',\n",
       " 110: 'visual_disturbances',\n",
       " 111: 'receiving_blood_transfusion',\n",
       " 112: 'receiving_unsterile_injections',\n",
       " 113: 'coma',\n",
       " 114: 'stomach_bleeding',\n",
       " 115: 'distention_of_abdomen',\n",
       " 116: 'history_of_alcohol_consumption',\n",
       " 117: 'fluid_overload.1',\n",
       " 118: 'blood_in_sputum',\n",
       " 119: 'prominent_veins_on_calf',\n",
       " 120: 'palpitations',\n",
       " 121: 'painful_walking',\n",
       " 122: 'pus_filled_pimples',\n",
       " 123: 'blackheads',\n",
       " 124: 'scurring',\n",
       " 125: 'skin_peeling',\n",
       " 126: 'silver_like_dusting',\n",
       " 127: 'small_dents_in_nails',\n",
       " 128: 'inflammatory_nails',\n",
       " 129: 'blister',\n",
       " 130: 'red_sore_around_nose',\n",
       " 131: 'yellow_crust_ooze',\n",
       " 132: 'prognosis'}"
      ]
     },
     "execution_count": 13,
     "metadata": {},
     "output_type": "execute_result"
    }
   ],
   "source": [
    "# to extract all the symptom from the dataset\n",
    "symptom_Dict = {index: name for index, name in enumerate(symptom_list)}\n",
    "symptom_Dict\n",
    "# Remove the output symptom mainwally....(prognosis)...*note*"
   ]
  },
  {
   "cell_type": "code",
   "execution_count": 14,
   "id": "679b4bfd-9efc-47c8-910f-027d578c6e45",
   "metadata": {},
   "outputs": [
    {
     "data": {
      "text/plain": [
       "(4920,)"
      ]
     },
     "execution_count": 14,
     "metadata": {},
     "output_type": "execute_result"
    }
   ],
   "source": [
    "y.shape"
   ]
  },
  {
   "cell_type": "code",
   "execution_count": 15,
   "id": "a9982506-d2d8-455a-bc67-e50c00d751be",
   "metadata": {},
   "outputs": [
    {
     "data": {
      "text/plain": [
       "array([15, 15, 15, ..., 38, 35, 27])"
      ]
     },
     "execution_count": 15,
     "metadata": {},
     "output_type": "execute_result"
    }
   ],
   "source": [
    "LE=LabelEncoder()\n",
    "Y_encoded=LE.fit_transform(y)\n",
    "Y_encoded"
   ]
  },
  {
   "cell_type": "code",
   "execution_count": 16,
   "id": "7faab500-4e55-40c3-a56d-f2453ed2fcad",
   "metadata": {},
   "outputs": [],
   "source": [
    "# To find the Dictionary of the unique Diseases\n",
    "# encoded_dict = {index: LE.inverse_transform([Y_encoded[index]])[0] for index in range(len(encoded))}\n",
    "# encoded_dict"
   ]
  },
  {
   "cell_type": "code",
   "execution_count": 17,
   "id": "964f3d19-c36b-430d-8ba5-c71a026d2d35",
   "metadata": {},
   "outputs": [
    {
     "data": {
      "text/plain": [
       "((3444, 132), (1476, 132), (3444,), (1476,))"
      ]
     },
     "execution_count": 17,
     "metadata": {},
     "output_type": "execute_result"
    }
   ],
   "source": [
    "x_train,x_test,y_train,y_test=train_test_split(x,Y_encoded,test_size=0.3,random_state=20)\n",
    "x_train.shape,x_test.shape,y_train.shape,y_test.shape"
   ]
  },
  {
   "cell_type": "markdown",
   "id": "9d713a92-2db2-43c9-8fd6-58b8b0db5603",
   "metadata": {},
   "source": [
    "# Importing the Top Models"
   ]
  },
  {
   "cell_type": "code",
   "execution_count": 18,
   "id": "e7d57f52-ec42-40f5-8461-f01f4f5a212c",
   "metadata": {},
   "outputs": [],
   "source": [
    "from sklearn.datasets import make_classification\n",
    "from sklearn.svm import SVC\n",
    "from sklearn.ensemble import RandomForestClassifier, GradientBoostingClassifier\n",
    "from sklearn.neighbors import KNeighborsClassifier\n",
    "from sklearn.naive_bayes import MultinomialNB\n",
    "# To check the accuracy of the models\n",
    "from sklearn.metrics import accuracy_score, confusion_matrix"
   ]
  },
  {
   "cell_type": "code",
   "execution_count": 19,
   "id": "9aa0f124-eaeb-486e-b51d-034f1b7785c1",
   "metadata": {},
   "outputs": [],
   "source": [
    "# init the models objects here.\n",
    "svc = SVC(kernel='linear')\n",
    "RF = RandomForestClassifier(n_estimators=100, random_state=42)\n",
    "GB = GradientBoostingClassifier(n_estimators=100, random_state=42)\n",
    "NB = MultinomialNB()\n",
    "KNN = KNeighborsClassifier(n_neighbors=5)"
   ]
  },
  {
   "cell_type": "code",
   "execution_count": 20,
   "id": "edfe32ce-6d2e-4e08-bb3a-1011ab605697",
   "metadata": {},
   "outputs": [
    {
     "name": "stdout",
     "output_type": "stream",
     "text": [
      "Support Vector Classifier Accuacy :1.0 \n",
      "Support Vector Classifier confusion Matrix :\n",
      "[[40,  0,  0, ...,  0,  0,  0],\n",
      " [ 0, 43,  0, ...,  0,  0,  0],\n",
      " [ 0,  0, 28, ...,  0,  0,  0],\n",
      " ...,\n",
      " [ 0,  0,  0, ..., 34,  0,  0],\n",
      " [ 0,  0,  0, ...,  0, 41,  0],\n",
      " [ 0,  0,  0, ...,  0,  0, 31]]\n",
      "Random Forest Classifier Accuacy :1.0 \n",
      "Random Forest Classifier confusion Matrix :\n",
      "[[40,  0,  0, ...,  0,  0,  0],\n",
      " [ 0, 43,  0, ...,  0,  0,  0],\n",
      " [ 0,  0, 28, ...,  0,  0,  0],\n",
      " ...,\n",
      " [ 0,  0,  0, ..., 34,  0,  0],\n",
      " [ 0,  0,  0, ...,  0, 41,  0],\n",
      " [ 0,  0,  0, ...,  0,  0, 31]]\n",
      "Gradient Boosting Classifier Accuacy :1.0 \n",
      "Gradient Boosting Classifier confusion Matrix :\n",
      "[[40,  0,  0, ...,  0,  0,  0],\n",
      " [ 0, 43,  0, ...,  0,  0,  0],\n",
      " [ 0,  0, 28, ...,  0,  0,  0],\n",
      " ...,\n",
      " [ 0,  0,  0, ..., 34,  0,  0],\n",
      " [ 0,  0,  0, ...,  0, 41,  0],\n",
      " [ 0,  0,  0, ...,  0,  0, 31]]\n",
      "Naive Bayes Classifier Accuacy :1.0 \n",
      "Naive Bayes Classifier confusion Matrix :\n",
      "[[40,  0,  0, ...,  0,  0,  0],\n",
      " [ 0, 43,  0, ...,  0,  0,  0],\n",
      " [ 0,  0, 28, ...,  0,  0,  0],\n",
      " ...,\n",
      " [ 0,  0,  0, ..., 34,  0,  0],\n",
      " [ 0,  0,  0, ...,  0, 41,  0],\n",
      " [ 0,  0,  0, ...,  0,  0, 31]]\n",
      "K Nearest Neighbour Accuacy :1.0 \n",
      "K Nearest Neighbour confusion Matrix :\n",
      "[[40,  0,  0, ...,  0,  0,  0],\n",
      " [ 0, 43,  0, ...,  0,  0,  0],\n",
      " [ 0,  0, 28, ...,  0,  0,  0],\n",
      " ...,\n",
      " [ 0,  0,  0, ..., 34,  0,  0],\n",
      " [ 0,  0,  0, ...,  0, 41,  0],\n",
      " [ 0,  0,  0, ...,  0,  0, 31]]\n"
     ]
    }
   ],
   "source": [
    "# creating the dictionsry of  the models\n",
    "models = {\n",
    "    \"Support Vector Classifier\": svc,\n",
    "    \"Random Forest Classifier\": RF,\n",
    "    \"Gradient Boosting Classifier\": GB,\n",
    "    \"Naive Bayes Classifier\": NB,\n",
    "    \"K Nearest Neighbour\": KNN\n",
    "}\n",
    "for model_name,model in models.items():\n",
    "    # Training of model\n",
    "    model.fit(x_train,y_train)\n",
    "    # Test of model\n",
    "    Y_PRED=model.predict(x_test)\n",
    "    # Calculate the Accuracy score \n",
    "    Accuacy=accuracy_score(y_test,Y_PRED)\n",
    "    # Calculating conustion Matrics\n",
    "    Cm=confusion_matrix(y_test,Y_PRED)\n",
    "    # Display the Accurcu and prediction\n",
    "    print(f\"{model_name} Accuacy :{Accuacy} \")\n",
    "    print(f\"{model_name} confusion Matrix :\")\n",
    "    print(np.array2string(Cm,separator=\", \"))\n",
    "    \n",
    "    \n"
   ]
  },
  {
   "cell_type": "code",
   "execution_count": 21,
   "id": "26526460-b8ce-428f-bbbe-8f577d0299c5",
   "metadata": {},
   "outputs": [],
   "source": [
    "# models = {\n",
    "#     \"Support Vector Classifier\": SVC,\n",
    "#     \"Random Forest Classifier\": RF,\n",
    "#     \"Gradient Boosting Classifier\": GB,\n",
    "#     \"Naive Bayes Classifier\": NB,\n",
    "#     \"K Nearest Neighbour\": KNN\n",
    "# }\n",
    "\n",
    "# for model_name, model in models.items():\n",
    "#     # training the model here.\n",
    "#     model.fit(x_train, y_train)\n",
    "#     # testing the model here.\n",
    "#     score = model.score(x_test, y_test)\n",
    "#     # display the accuracy of the model here.\n",
    "#     y_pred = model.predict(x_test)\n",
    "#     accuracy = accuracy_score(y_test, y_pred)\n",
    "#     # display the confusion matrix here\n",
    "#     cm = confusion_matrix(y_test, y_pred)\n",
    "#     # display the result here\n",
    "#     print(f\"Model: {model_name}, Score: {score}, Accuracy: {accuracy}\")\n",
    "#     print(f\"Confusion Matrix:\\n{np.array2string(cm,separator=', ')}\\n\")"
   ]
  },
  {
   "cell_type": "markdown",
   "id": "cd84becf-a40d-465e-b3d9-0867b2037fae",
   "metadata": {},
   "source": [
    "# Single Model Prediction"
   ]
  },
  {
   "cell_type": "code",
   "execution_count": 22,
   "id": "22131a6f-5009-4fca-9b3d-ed428a70d5ec",
   "metadata": {},
   "outputs": [
    {
     "data": {
      "text/plain": [
       "1.0"
      ]
     },
     "execution_count": 22,
     "metadata": {},
     "output_type": "execute_result"
    }
   ],
   "source": [
    "MODEL = SVC(kernel='linear')\n",
    "# fITTING OF THE DATA INTO THE MODEL\n",
    "MODEL.fit(x_train,y_train)\n",
    "prediction=MODEL.predict(x_test)\n",
    "accuracy_score(y_test,prediction)\n"
   ]
  },
  {
   "cell_type": "code",
   "execution_count": 23,
   "id": "19e1267a-a255-41e0-ba68-5f48b090f006",
   "metadata": {},
   "outputs": [],
   "source": [
    "# Saving the Model\n",
    "import pickle\n",
    "pickle.dump(MODEL,open('Models/svc.pkl','wb'))"
   ]
  },
  {
   "cell_type": "code",
   "execution_count": 24,
   "id": "45ccfda2-4f27-4daa-a671-cca546fef7d3",
   "metadata": {},
   "outputs": [],
   "source": [
    "# Loading the Model\n",
    "MOdel=pickle.load(open('Models/svc.pkl','rb'))"
   ]
  },
  {
   "cell_type": "code",
   "execution_count": 25,
   "id": "db17e37d-3dc7-4419-9fdc-d702f357264b",
   "metadata": {},
   "outputs": [
    {
     "name": "stdout",
     "output_type": "stream",
     "text": [
      "Predicted Label : [35]\n",
      "Actual Label : 35\n"
     ]
    }
   ],
   "source": [
    "# test 01\n",
    "print(\"Predicted Label :\",MOdel.predict(x_test.iloc[5].values.reshape(1, -1)))\n",
    "print(\"Actual Label :\",y_test[5])"
   ]
  },
  {
   "cell_type": "code",
   "execution_count": 26,
   "id": "62e405c2-e60e-473a-9b98-994210964147",
   "metadata": {},
   "outputs": [
    {
     "name": "stdout",
     "output_type": "stream",
     "text": [
      "Predicted Label : [39]\n",
      "Actual Label : 39\n"
     ]
    }
   ],
   "source": [
    "# test 02\n",
    "print(\"Predicted Label :\",MOdel.predict(x_test.iloc[23].values.reshape(1, -1)))\n",
    "print(\"Actual Label :\",y_test[23])"
   ]
  },
  {
   "cell_type": "code",
   "execution_count": null,
   "id": "afc4936d-bdcc-43c3-b9b3-60cc3ca63933",
   "metadata": {},
   "outputs": [],
   "source": []
  }
 ],
 "metadata": {
  "kernelspec": {
   "display_name": "Python 3 (ipykernel)",
   "language": "python",
   "name": "python3"
  },
  "language_info": {
   "codemirror_mode": {
    "name": "ipython",
    "version": 3
   },
   "file_extension": ".py",
   "mimetype": "text/x-python",
   "name": "python",
   "nbconvert_exporter": "python",
   "pygments_lexer": "ipython3",
   "version": "3.11.7"
  }
 },
 "nbformat": 4,
 "nbformat_minor": 5
}
